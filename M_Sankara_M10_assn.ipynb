{
 "cells": [
  {
   "cell_type": "markdown",
   "id": "0d7f1b7b",
   "metadata": {},
   "source": [
    "# Introduction"
   ]
  },
  {
   "cell_type": "markdown",
   "id": "46f3631a",
   "metadata": {},
   "source": [
    "Sentiment analysis is a crucial task for understanding public opinions, and Naïve Bayes classifiers are effective tools for classifying text data. In this assignment, we aim to construct a Naïve Bayes sentiment classifier for movie reviews. We'll be working with a dataset containing 1000 positive and 1000 negative movie reviews sourced from the polarity dataset v2.0.\n",
    "\n",
    "Our goal is to build a model that can accurately classify movie reviews as either positive or negative. To achieve this, we'll follow these steps:\n",
    "\n",
    "1. **Data Preparation:** We'll load the provided data, preprocess it by removing punctuation and stop words, and convert it into a term-document matrix.\n",
    "\n",
    "2. **Frequency Distribution Plots:** We'll plot the frequency distribution of the most common words in both positive and negative reviews to gain insights into the language used in each sentiment category.\n",
    "\n",
    "3. **Naïve Bayes Model Training:** We'll split the data into training and testing subsets, and train a Naïve Bayes classifier using the training data.\n",
    "\n",
    "4. **Model Testing:** We'll apply the trained model to the testing subset and evaluate its performance using classification metrics. Additionally, we'll identify the most informative features learned by the classifier.\n",
    "\n",
    "5. **Applying the Model:** Finally, we'll apply the trained model to a previously unseen movie review to assess its classification accuracy.\n",
    "\n",
    "By following these steps, we aim to build a robust sentiment classifier that can effectively analyze movie reviews and provide insights into audience sentiments."
   ]
  },
  {
   "cell_type": "markdown",
   "id": "73b4df99",
   "metadata": {},
   "source": [
    "# Data Preparation"
   ]
  },
  {
   "cell_type": "code",
   "execution_count": 1,
   "id": "8663d4a8",
   "metadata": {},
   "outputs": [],
   "source": [
    "import shutil\n",
    "import urllib.request\n",
    "import requests\n",
    "import os\n",
    "import tarfile\n",
    "import numpy as np\n",
    "import pandas as pd\n",
    "import re\n",
    "import matplotlib.pyplot as plt\n",
    "from sklearn.model_selection import train_test_split\n",
    "from sklearn.feature_extraction.text import CountVectorizer\n",
    "from sklearn.naive_bayes import MultinomialNB\n",
    "from sklearn.metrics import accuracy_score, precision_score, recall_score, confusion_matrix\n",
    "from sklearn.feature_extraction.text import CountVectorizer\n",
    "from sklearn.metrics import classification_report\n",
    "from zipfile import ZipFile"
   ]
  },
  {
   "cell_type": "code",
   "execution_count": 2,
   "id": "3091401a",
   "metadata": {},
   "outputs": [],
   "source": [
    "# Define the URL of the tar.gz file\n",
    "url = 'https://github.com/mri177/DS-M10/raw/main/review_polarityy.tar.gz'"
   ]
  },
  {
   "cell_type": "code",
   "execution_count": 3,
   "id": "4a409bef",
   "metadata": {},
   "outputs": [
    {
     "name": "stdout",
     "output_type": "stream",
     "text": [
      "Negative reviews directory: data\\txt_sentoken\\neg\n",
      "Positive reviews directory: data\\txt_sentoken\\pos\n",
      "Number of negative reviews: 1000\n",
      "Number of positive reviews: 1000\n"
     ]
    }
   ],
   "source": [
    "# Define local directory to save the downloaded file\n",
    "local_dir = 'data'\n",
    "\n",
    "# Create the local directory if it doesn't exist\n",
    "if not os.path.exists(local_dir):\n",
    "    os.makedirs(local_dir)\n",
    "\n",
    "# Define the filename for the downloaded tar.gz file\n",
    "filename = os.path.join(local_dir, 'review_polarityy.tar.gz')\n",
    "\n",
    "# Download the tar.gz file\n",
    "response = requests.get(url)\n",
    "with open(filename, 'wb') as f:\n",
    "    f.write(response.content)\n",
    "\n",
    "# Extract the contents of the tar.gz file\n",
    "with tarfile.open(filename, 'r:gz') as tar:\n",
    "    tar.extractall(path=local_dir)\n",
    "\n",
    "# Define directories for negative and positive reviews\n",
    "neg_dir = os.path.join(local_dir, 'txt_sentoken', 'neg')\n",
    "pos_dir = os.path.join(local_dir, 'txt_sentoken', 'pos')\n",
    "\n",
    "# List files in the negative directory\n",
    "neg_files = os.listdir(neg_dir)\n",
    "\n",
    "# List files in the positive directory\n",
    "pos_files = os.listdir(pos_dir)\n",
    "\n",
    "print(\"Negative reviews directory:\", neg_dir)\n",
    "print(\"Positive reviews directory:\", pos_dir)\n",
    "print(\"Number of negative reviews:\", len(neg_files))\n",
    "print(\"Number of positive reviews:\", len(pos_files))"
   ]
  },
  {
   "cell_type": "markdown",
   "id": "735093dd",
   "metadata": {},
   "source": [
    "### Inference\n",
    "\n",
    "* The code snippet provided downloads and extracts a dataset containing movie reviews. It then prints out the directories where negative and positive reviews are stored, along with the number of reviews in each category.\n",
    "\n",
    "* From this output, we can infer that the dataset has been successfully downloaded and organized into separate directories for negative and positive reviews. Each directory contains 1000 reviews, resulting in a balanced dataset with equal representation of both positive and negative sentiments. This balance is essential for training a sentiment classifier that can learn from diverse examples of both positive and negative sentiment expressions. Overall, the data acquisition process seems to have been completed successfully."
   ]
  },
  {
   "cell_type": "markdown",
   "id": "c43ad456",
   "metadata": {},
   "source": [
    "# Data Preprocessing"
   ]
  },
  {
   "cell_type": "code",
   "execution_count": 4,
   "id": "ebcbdb6e",
   "metadata": {},
   "outputs": [],
   "source": [
    "# Function to load reviews from a directory\n",
    "def load_reviews_from_dir(directory):\n",
    "    reviews = []\n",
    "    for filename in os.listdir(directory):\n",
    "        with open(os.path.join(directory, filename), 'r', encoding='utf-8') as file:\n",
    "            review = file.read()\n",
    "            reviews.append(review)\n",
    "    return reviews\n"
   ]
  },
  {
   "cell_type": "markdown",
   "id": "c47fab68",
   "metadata": {},
   "source": [
    "### Inference\n",
    "\n",
    "* The provided function load_reviews_from_dir is designed to load reviews from a given directory. It iterates over each file in the directory, reads its contents, and appends the review text to a list. Finally, it returns the list containing all the reviews in that directory.\n",
    "\n",
    "* From this function, we can infer that it will be used to load the movie reviews stored in the specified directory. This function will likely be called for both the negative and positive review directories to load all the reviews into memory for further processing, such as preprocessing, vectorization, and model training. Overall, this function facilitates the data loading process for subsequent analysis and model building."
   ]
  },
  {
   "cell_type": "code",
   "execution_count": 5,
   "id": "eed1fc3b",
   "metadata": {},
   "outputs": [],
   "source": [
    "# Load negative and positive reviews\n",
    "neg_reviews = load_reviews_from_dir(neg_dir)\n",
    "pos_reviews = load_reviews_from_dir(pos_dir)"
   ]
  },
  {
   "cell_type": "code",
   "execution_count": 6,
   "id": "dd3c6d97",
   "metadata": {},
   "outputs": [],
   "source": [
    "# Combine positive and negative reviews into a single DataFrame\n",
    "reviews = pd.DataFrame({\n",
    "    'review': neg_reviews + pos_reviews,\n",
    "    'sentiment': ['NEG'] * len(neg_reviews) + ['POS'] * len(pos_reviews)\n",
    "})"
   ]
  },
  {
   "cell_type": "code",
   "execution_count": 7,
   "id": "f6b67e2e",
   "metadata": {},
   "outputs": [],
   "source": [
    "# Preprocessing function to remove punctuation and convert text to lowercase\n",
    "def preprocess_text(text):\n",
    "    text = re.sub(r'[^\\w\\s]', '', text)  # Remove punctuation\n",
    "    text = text.lower()  # Convert text to lowercase\n",
    "    return text"
   ]
  },
  {
   "cell_type": "markdown",
   "id": "8b6370f0",
   "metadata": {},
   "source": [
    "### Inference\n",
    "This preprocess_text function performs two main tasks: removing punctuation and converting text to lowercase. The function first uses a regular expression to remove any non-alphanumeric characters and whitespace (except spaces), effectively removing punctuation. Then, it converts the text to lowercase using the lower() method"
   ]
  },
  {
   "cell_type": "code",
   "execution_count": 8,
   "id": "6776dfc1",
   "metadata": {},
   "outputs": [],
   "source": [
    "# Apply preprocessing to positive and negative reviews\n",
    "preprocessed_neg_reviews = [preprocess_text(review) for review in neg_reviews]\n",
    "preprocessed_pos_reviews = [preprocess_text(review) for review in pos_reviews]"
   ]
  },
  {
   "cell_type": "markdown",
   "id": "028d1280",
   "metadata": {},
   "source": [
    "# Frequency Distribution Plots"
   ]
  },
  {
   "cell_type": "code",
   "execution_count": 9,
   "id": "11ed4e06",
   "metadata": {},
   "outputs": [],
   "source": [
    "# Create a CountVectorizer to convert text data into a term-document matrix\n",
    "vectorizer = CountVectorizer(stop_words='english')"
   ]
  },
  {
   "cell_type": "markdown",
   "id": "46415bd6",
   "metadata": {},
   "source": [
    "### Inference: \n",
    "By creating a CountVectorizer with stopwords removed, we can efficiently transform text data into a format suitable for training machine learning models, such as Naïve Bayes classifiers or logistic regression. This preprocessing step helps reduce the dimensionality of the feature space and removes noise from the data, leading to more accurate and interpretable models."
   ]
  },
  {
   "cell_type": "code",
   "execution_count": 10,
   "id": "4a2a69a2",
   "metadata": {},
   "outputs": [],
   "source": [
    "# Fit and transform the positive reviews\n",
    "pos_vectorized = vectorizer.fit_transform(preprocessed_pos_reviews)"
   ]
  },
  {
   "cell_type": "code",
   "execution_count": 11,
   "id": "c9f4cd70",
   "metadata": {},
   "outputs": [
    {
     "name": "stderr",
     "output_type": "stream",
     "text": [
      "C:\\Users\\mridu\\anaconda3\\lib\\site-packages\\sklearn\\utils\\deprecation.py:87: FutureWarning: Function get_feature_names is deprecated; get_feature_names is deprecated in 1.0 and will be removed in 1.2. Please use get_feature_names_out instead.\n",
      "  warnings.warn(msg, category=FutureWarning)\n"
     ]
    }
   ],
   "source": [
    "# Get feature names and word counts for positive reviews\n",
    "pos_feature_names = vectorizer.get_feature_names()\n",
    "pos_word_counts = np.array(pos_vectorized.sum(axis=0))[0]"
   ]
  },
  {
   "cell_type": "code",
   "execution_count": 12,
   "id": "1f04456c",
   "metadata": {},
   "outputs": [],
   "source": [
    "# Create a DataFrame to store word counts and feature names for positive reviews\n",
    "pos_word_counts_df = pd.DataFrame({'word': pos_feature_names, 'count': pos_word_counts})"
   ]
  },
  {
   "cell_type": "code",
   "execution_count": 13,
   "id": "2891f63b",
   "metadata": {},
   "outputs": [],
   "source": [
    "# Sort DataFrame by word counts for positive reviews\n",
    "pos_word_counts_df = pos_word_counts_df.sort_values(by='count', ascending=False)"
   ]
  },
  {
   "cell_type": "code",
   "execution_count": 14,
   "id": "368d3a63",
   "metadata": {},
   "outputs": [
    {
     "data": {
      "image/png": "[encoded data removed]",
      "text/plain": [
       "<Figure size 1000x600 with 1 Axes>"
      ]
     },
     "metadata": {},
     "output_type": "display_data"
    }
   ],
   "source": [
    "# Plot the frequency distribution for the 30 most common words in positive reviews\n",
    "plt.figure(figsize=(10, 6))\n",
    "plt.bar(pos_word_counts_df['word'][:30], pos_word_counts_df['count'][:30])\n",
    "plt.xlabel('Words')\n",
    "plt.ylabel('Frequency')\n",
    "plt.title('Top 30 Words in Positive Reviews')\n",
    "plt.xticks(rotation=90)\n",
    "plt.show()"
   ]
  },
  {
   "cell_type": "markdown",
   "id": "3823e674",
   "metadata": {},
   "source": [
    "### Inference\n",
    "\n",
    "\n",
    "* The chart shows the frequency distribution of the 30 most common words in positive reviews. The words \"film\", \"movie\", \"like\" and \"good\" are the most frequent words used in positive reviews. Other common words include \"time\", \"characters\", \"story\", \"great\", \"really\", and \"little\".\n",
    "\n",
    "* This suggests that people tend to use general positive words to describe their experience with movies. Words like \"characters\", \"story\", and \"plot\" suggest that people are happy with the content of the movie. Words like \"great\" and \"really\" show that people are enthusiastic about their experience.\n",
    "\n",
    "* It is important to note that this is just a small sample of words used in positive reviews and may not represent all positive reviews."
   ]
  },
  {
   "cell_type": "code",
   "execution_count": 15,
   "id": "9b2be2b0",
   "metadata": {},
   "outputs": [],
   "source": [
    "# Fit and transform the negative reviews\n",
    "neg_vectorized = vectorizer.fit_transform(preprocessed_neg_reviews)"
   ]
  },
  {
   "cell_type": "code",
   "execution_count": 16,
   "id": "95081567",
   "metadata": {},
   "outputs": [],
   "source": [
    "# Get feature names and word counts for negative reviews\n",
    "neg_feature_names = vectorizer.get_feature_names_out()\n",
    "neg_word_counts = np.array(neg_vectorized.sum(axis=0))[0]"
   ]
  },
  {
   "cell_type": "code",
   "execution_count": 17,
   "id": "f7bde1b8",
   "metadata": {},
   "outputs": [],
   "source": [
    "# Create a DataFrame to store word counts and feature names for negative reviews\n",
    "neg_word_counts_df = pd.DataFrame({'word': neg_feature_names, 'count': neg_word_counts})\n"
   ]
  },
  {
   "cell_type": "code",
   "execution_count": 18,
   "id": "9d30a327",
   "metadata": {},
   "outputs": [],
   "source": [
    "# Sort DataFrame by word counts for negative reviews\n",
    "neg_word_counts_df = neg_word_counts_df.sort_values(by='count', ascending=False)\n"
   ]
  },
  {
   "cell_type": "code",
   "execution_count": 19,
   "id": "d698f2c6",
   "metadata": {},
   "outputs": [
    {
     "data": {
      "image/png": "[encoded data removed]",
      "text/plain": [
       "<Figure size 1000x600 with 1 Axes>"
      ]
     },
     "metadata": {},
     "output_type": "display_data"
    }
   ],
   "source": [
    "# Plot the frequency distribution for the 30 most common words in negative reviews\n",
    "plt.figure(figsize=(10, 6))\n",
    "plt.bar(neg_word_counts_df['word'][:30], neg_word_counts_df['count'][:30])\n",
    "plt.xlabel('Words')\n",
    "plt.ylabel('Frequency')\n",
    "plt.title('Top 30 Words in Negative Reviews')\n",
    "plt.xticks(rotation=90)\n",
    "plt.show()"
   ]
  },
  {
   "cell_type": "markdown",
   "id": "8b8d711d",
   "metadata": {},
   "source": [
    "### Inference\n",
    "\n",
    "* The image you sent shows the top 30 words in negative reviews, according to some dataset. The most frequent word is \"bad\" followed by \"movie\", \"film\", \"just\", \"like\", and \"good\". Interestingly, \"good\" appears on both positive and negative review lists, which could be because people are saying \"good\" movies had bad elements, or they are using sarcasm. Other common words include \"characters\", \"films\", \"story\", \"really\", and \"way\".\n",
    "\n",
    "Here are some inferences that can be drawn from this data:\n",
    "\n",
    "* People tend to use strong negative words to describe their experiences with movies they dislike.\n",
    "* Words like \"characters\", \"story\", and \"plot\" suggest that people are unhappy with the content of the movie, such as the way the characters are portrayed or how the plot unfolds.\n",
    "* Words like \"really\" and \"way\" show that people are emphasizing how bad their experience was.\n",
    "* It is important to note that this is just a small sample of words used in negative reviews and may not represent all negative reviews."
   ]
  },
  {
   "cell_type": "code",
   "execution_count": 20,
   "id": "581a726b",
   "metadata": {},
   "outputs": [],
   "source": [
    "# Vectorize the text data\n",
    "X_vectorized = vectorizer.fit_transform(reviews['review'])"
   ]
  },
  {
   "cell_type": "markdown",
   "id": "55c3b519",
   "metadata": {},
   "source": [
    "# Naive Model training"
   ]
  },
  {
   "cell_type": "code",
   "execution_count": 21,
   "id": "1a2fad74",
   "metadata": {},
   "outputs": [],
   "source": [
    "# Split the data into training and testing subsets\n",
    "X_train, X_test, y_train, y_test = train_test_split(\n",
    "    X_vectorized, reviews['sentiment'], test_size=0.25, random_state=42)\n"
   ]
  },
  {
   "cell_type": "markdown",
   "id": "5b1ece8d",
   "metadata": {},
   "source": [
    "### Inference \n",
    "Splitting the data into training and testing subsets is a crucial step in machine learning model development. It allows us to assess the model's performance on unseen data, which helps us evaluate its generalization capabilities. The test_size=0.25 parameter specifies that 25% of the data will be reserved for testing, while the remaining 75% will be used for training. Additionally, setting random_state=42 ensures reproducibility by fixing the random seed for the data splitting process."
   ]
  },
  {
   "cell_type": "code",
   "execution_count": 22,
   "id": "a27ba014",
   "metadata": {},
   "outputs": [
    {
     "data": {
      "text/plain": [
       "MultinomialNB()"
      ]
     },
     "execution_count": 22,
     "metadata": {},
     "output_type": "execute_result"
    }
   ],
   "source": [
    "# Train a Naïve Bayes classifier\n",
    "classifier = MultinomialNB()\n",
    "classifier.fit(X_train, y_train)\n"
   ]
  },
  {
   "cell_type": "markdown",
   "id": "e77a02ab",
   "metadata": {},
   "source": [
    "# Model testing"
   ]
  },
  {
   "cell_type": "code",
   "execution_count": 23,
   "id": "923d1115",
   "metadata": {},
   "outputs": [],
   "source": [
    "# Test the classifier\n",
    "y_pred = classifier.predict(X_test)"
   ]
  },
  {
   "cell_type": "code",
   "execution_count": 24,
   "id": "75760111",
   "metadata": {},
   "outputs": [],
   "source": [
    "# Calculate classification metrics\n",
    "accuracy = accuracy_score(y_test, y_pred)\n",
    "precision = precision_score(y_test, y_pred, pos_label='POS')\n",
    "recall = recall_score(y_test, y_pred, pos_label='POS')"
   ]
  },
  {
   "cell_type": "code",
   "execution_count": 25,
   "id": "f5248611",
   "metadata": {},
   "outputs": [
    {
     "name": "stdout",
     "output_type": "stream",
     "text": [
      "Classification Report:\n",
      "              precision    recall  f1-score   support\n",
      "\n",
      "         NEG       0.77      0.84      0.80       257\n",
      "         POS       0.81      0.74      0.77       243\n",
      "\n",
      "    accuracy                           0.79       500\n",
      "   macro avg       0.79      0.79      0.79       500\n",
      "weighted avg       0.79      0.79      0.79       500\n",
      "\n"
     ]
    }
   ],
   "source": [
    "# Print the classification report\n",
    "print(\"Classification Report:\")\n",
    "print(classification_report(y_test, y_pred))"
   ]
  },
  {
   "cell_type": "markdown",
   "id": "7db60f1e",
   "metadata": {},
   "source": [
    "This classification report provides a summary of the performance of the Naïve Bayes classifier on the testing data. Here's an inference based on the report:\n",
    "\n",
    "- Precision: Precision measures the accuracy of positive predictions. For negative reviews (NEG), the precision is 0.77, indicating that 77% of the reviews classified as negative are indeed negative. For positive reviews (POS), the precision is 0.81, meaning that 81% of the reviews classified as positive are truly positive.\n",
    "\n",
    "- Recall: Recall, also known as sensitivity, measures the ability of the classifier to correctly identify positive instances from all actual positive instances. For negative reviews (NEG), the recall is 0.84, indicating that 84% of the actual negative reviews are correctly classified. For positive reviews (POS), the recall is 0.74, meaning that 74% of the actual positive reviews are correctly classified.\n",
    "\n",
    "- F1-score: The F1-score is the harmonic mean of precision and recall, providing a balance between the two metrics. For negative reviews (NEG), the F1-score is 0.80, and for positive reviews (POS), the F1-score is 0.77.\n",
    "\n",
    "- Support: Support refers to the number of actual occurrences of each class in the test dataset. There are 257 instances of negative reviews and 243 instances of positive reviews in the test dataset.\n",
    "\n",
    "- Accuracy: The overall accuracy of the classifier is 0.79, indicating that it correctly classifies 79% of the reviews in the test dataset.\n",
    "\n",
    "The classification report provides insights into the performance of the Naïve Bayes classifier in distinguishing between positive and negative reviews. Overall, the classifier demonstrates reasonably good performance, with balanced precision and recall scores for both classes. However, there is room for improvement, particularly in increasing the recall for positive reviews to reduce false negatives."
   ]
  },
  {
   "cell_type": "markdown",
   "id": "b3eea5ea",
   "metadata": {},
   "source": [
    "# Feature Analysis"
   ]
  },
  {
   "cell_type": "code",
   "execution_count": 26,
   "id": "ac523caf",
   "metadata": {},
   "outputs": [],
   "source": [
    "# Identify and display the 30 most informative features as determined by the Naïve Bayes classifier\n",
    "# Get the feature log probabilities\n",
    "feature_log_probs = classifier.feature_log_prob_"
   ]
  },
  {
   "cell_type": "code",
   "execution_count": 27,
   "id": "4896e1ef",
   "metadata": {},
   "outputs": [],
   "source": [
    "# Calculate the difference in log probabilities between positive and negative classes\n",
    "diff_log_probs = feature_log_probs[1, :] - feature_log_probs[0, :]"
   ]
  },
  {
   "cell_type": "code",
   "execution_count": 28,
   "id": "3dd7dc7b",
   "metadata": {},
   "outputs": [],
   "source": [
    "# Get the indices of the top 30 most informative features\n",
    "top_indices = np.argsort(diff_log_probs)[::-1][:30]"
   ]
  },
  {
   "cell_type": "code",
   "execution_count": 29,
   "id": "ec73a2c1",
   "metadata": {},
   "outputs": [],
   "source": [
    "# Get the feature names from the CountVectorizer\n",
    "feature_names = vectorizer.get_feature_names_out()"
   ]
  },
  {
   "cell_type": "code",
   "execution_count": 30,
   "id": "3e54b98f",
   "metadata": {},
   "outputs": [],
   "source": [
    "# Get the feature names corresponding to the top indices\n",
    "top_features = [feature_names[i] for i in top_indices]\n"
   ]
  },
  {
   "cell_type": "code",
   "execution_count": 31,
   "id": "da35693b",
   "metadata": {},
   "outputs": [
    {
     "name": "stdout",
     "output_type": "stream",
     "text": [
      "Top 30 Most Informative Features:\n",
      "1. shrek\n",
      "2. bulworth\n",
      "3. mulan\n",
      "4. gattaca\n",
      "5. flynt\n",
      "6. guido\n",
      "7. leila\n",
      "8. sweetback\n",
      "9. lebowski\n",
      "10. homer\n",
      "11. taran\n",
      "12. maximus\n",
      "13. donkey\n",
      "14. debate\n",
      "15. mallory\n",
      "16. farquaad\n",
      "17. argento\n",
      "18. giles\n",
      "19. lumumba\n",
      "20. lambeau\n",
      "21. apostle\n",
      "22. ordell\n",
      "23. kenobi\n",
      "24. cauldron\n",
      "25. elliot\n",
      "26. wag\n",
      "27. bubby\n",
      "28. commodus\n",
      "29. niccol\n",
      "30. truman\n"
     ]
    }
   ],
   "source": [
    "# Display the top 30 most informative features\n",
    "print(\"Top 30 Most Informative Features:\")\n",
    "for i, feature in enumerate(top_features, start=1):\n",
    "    print(f\"{i}. {feature}\")\n"
   ]
  },
  {
   "cell_type": "markdown",
   "id": "1bebeaf2",
   "metadata": {},
   "source": [
    "### Inference:\n",
    "The displayed list shows the top 30 most informative features as determined by the Naïve Bayes classifier. These features represent words or terms that have the highest influence on the classification decision, particularly in distinguishing between positive and negative reviews.\n",
    "\n",
    "Some observations and potential insights from these features include:\n",
    "\n",
    "1. Many of the features are movie titles or character names, such as \"shrek,\" \"mulan,\" \"gattaca,\" \"lebowski,\" \"maximus,\" \"donkey,\" \"truman,\" etc. This suggests that specific movie titles and character names might strongly correlate with the sentiment expressed in the reviews.\n",
    "\n",
    "2. Certain terms may be associated with specific genres or themes. For example, \"shrek,\" \"mulan,\" and \"truman\" are well-known animated movies, while \"bulworth,\" \"flynt,\" \"apostle,\" and \"lambeau\" could be associated with specific genres or characters.\n",
    "\n",
    "3. Some terms are ambiguous or context-dependent and may require further analysis to understand their significance in sentiment classification. For instance, terms like \"debate,\" \"commodus,\" \"argento,\" and \"elliot\" could have varied meanings depending on the context of the reviews.\n",
    "\n",
    "4. Overall, these top features provide insights into the language and vocabulary used in movie reviews and highlight the words that contribute most significantly to the classification of sentiments as positive or negative."
   ]
  },
  {
   "cell_type": "markdown",
   "id": "9306dc53",
   "metadata": {},
   "source": [
    "# Model Application"
   ]
  },
  {
   "cell_type": "code",
   "execution_count": 32,
   "id": "a6139830",
   "metadata": {},
   "outputs": [
    {
     "name": "stdout",
     "output_type": "stream",
     "text": [
      "Predicted Sentiment: NEG\n"
     ]
    }
   ],
   "source": [
    "# Preprocess the unseen review\n",
    "unseen_review = \"There were some things I didn't like about this film. Here's what I remember most strongly: a man in an ingeniously fake-looking polar bear costume (funnier than the 'bear' from Hercules in New York); an extra with a less than believable laugh; an ex-drug addict martian with tics; child actors who recite their lines very slowly and carefully; a newspaper headline declaring that Santa has been 'kidnapped', and a giant robot. The least appealing acting job in the film must be when Mother Claus and her elves have been 'frozen' by the 'Martians'' weapons. They seemed to display an exaggerated amount of fear. Perhaps this was the preferred acting style in the 1960's??\"\n",
    "preprocessed_unseen_review = preprocess_text(unseen_review)\n",
    "\n",
    "# Vectorize the preprocessed unseen review\n",
    "unseen_review_vectorized = vectorizer.transform([preprocessed_unseen_review])\n",
    "\n",
    "# Predict the sentiment of the unseen review\n",
    "predicted_sentiment = classifier.predict(unseen_review_vectorized)[0]\n",
    "\n",
    "# Print the predicted sentiment\n",
    "print(\"Predicted Sentiment:\", predicted_sentiment)\n"
   ]
  },
  {
   "cell_type": "markdown",
   "id": "97ead31f",
   "metadata": {},
   "source": [
    "## Conclusion:\n",
    "The Naïve Bayes classifier predicted the sentiment of the unseen review to be \"NEG\" (negative). This prediction aligns with the content of the review, which expresses dissatisfaction with various aspects of a film. \n",
    "\n",
    "The classifier's prediction demonstrates its ability to analyze the language and sentiment of textual data, even in previously unseen reviews. However, it's essential to note that the accuracy of the prediction may vary depending on the complexity and nuances of the text, as well as the effectiveness of the feature extraction and model training process.\n",
    "\n",
    "Overall, the classifier's performance in predicting the sentiment of the unseen review suggests that it can be a valuable tool for automated sentiment analysis of movie reviews, providing insights into audience opinions and preferences."
   ]
  },
  {
   "cell_type": "code",
   "execution_count": null,
   "id": "dc1c6f84",
   "metadata": {},
   "outputs": [],
   "source": []
  }
 ],
 "metadata": {
  "kernelspec": {
   "display_name": "Python 3 (ipykernel)",
   "language": "python",
   "name": "python3"
  },
  "language_info": {
   "codemirror_mode": {
    "name": "ipython",
    "version": 3
   },
   "file_extension": ".py",
   "mimetype": "text/x-python",
   "name": "python",
   "nbconvert_exporter": "python",
   "pygments_lexer": "ipython3",
   "version": "3.9.13"
  }
 },
 "nbformat": 4,
 "nbformat_minor": 5
}
